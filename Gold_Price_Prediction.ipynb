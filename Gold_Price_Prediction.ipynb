{
 "cells": [
  {
   "cell_type": "code",
   "execution_count": 1,
   "id": "52bf6f97",
   "metadata": {},
   "outputs": [],
   "source": [
    "import pandas as pd\n",
    "import numpy as np\n",
    "import matplotlib.pyplot as plt\n",
    "import seaborn as sns\n",
    "from sklearn.model_selection import train_test_split"
   ]
  },
  {
   "cell_type": "code",
   "execution_count": 2,
   "id": "8b2c6513",
   "metadata": {},
   "outputs": [],
   "source": [
    "from sklearn.ensemble import RandomForestRegressor"
   ]
  },
  {
   "cell_type": "code",
   "execution_count": 3,
   "id": "d842b7bd",
   "metadata": {},
   "outputs": [],
   "source": [
    "from sklearn import metrics"
   ]
  },
  {
   "cell_type": "code",
   "execution_count": 5,
   "id": "244a343c",
   "metadata": {},
   "outputs": [
    {
     "data": {
      "text/html": [
       "<div>\n",
       "<style scoped>\n",
       "    .dataframe tbody tr th:only-of-type {\n",
       "        vertical-align: middle;\n",
       "    }\n",
       "\n",
       "    .dataframe tbody tr th {\n",
       "        vertical-align: top;\n",
       "    }\n",
       "\n",
       "    .dataframe thead th {\n",
       "        text-align: right;\n",
       "    }\n",
       "</style>\n",
       "<table border=\"1\" class=\"dataframe\">\n",
       "  <thead>\n",
       "    <tr style=\"text-align: right;\">\n",
       "      <th></th>\n",
       "      <th>Date</th>\n",
       "      <th>SPX</th>\n",
       "      <th>GLD</th>\n",
       "      <th>USO</th>\n",
       "      <th>SLV</th>\n",
       "      <th>EUR/USD</th>\n",
       "    </tr>\n",
       "  </thead>\n",
       "  <tbody>\n",
       "    <tr>\n",
       "      <th>0</th>\n",
       "      <td>1/2/2008</td>\n",
       "      <td>1447.160034</td>\n",
       "      <td>84.860001</td>\n",
       "      <td>78.470001</td>\n",
       "      <td>15.180</td>\n",
       "      <td>1.471692</td>\n",
       "    </tr>\n",
       "    <tr>\n",
       "      <th>1</th>\n",
       "      <td>1/3/2008</td>\n",
       "      <td>1447.160034</td>\n",
       "      <td>85.570000</td>\n",
       "      <td>78.370003</td>\n",
       "      <td>15.285</td>\n",
       "      <td>1.474491</td>\n",
       "    </tr>\n",
       "    <tr>\n",
       "      <th>2</th>\n",
       "      <td>1/4/2008</td>\n",
       "      <td>1411.630005</td>\n",
       "      <td>85.129997</td>\n",
       "      <td>77.309998</td>\n",
       "      <td>15.167</td>\n",
       "      <td>1.475492</td>\n",
       "    </tr>\n",
       "    <tr>\n",
       "      <th>3</th>\n",
       "      <td>1/7/2008</td>\n",
       "      <td>1416.180054</td>\n",
       "      <td>84.769997</td>\n",
       "      <td>75.500000</td>\n",
       "      <td>15.053</td>\n",
       "      <td>1.468299</td>\n",
       "    </tr>\n",
       "    <tr>\n",
       "      <th>4</th>\n",
       "      <td>1/8/2008</td>\n",
       "      <td>1390.189941</td>\n",
       "      <td>86.779999</td>\n",
       "      <td>76.059998</td>\n",
       "      <td>15.590</td>\n",
       "      <td>1.557099</td>\n",
       "    </tr>\n",
       "  </tbody>\n",
       "</table>\n",
       "</div>"
      ],
      "text/plain": [
       "       Date          SPX        GLD        USO     SLV   EUR/USD\n",
       "0  1/2/2008  1447.160034  84.860001  78.470001  15.180  1.471692\n",
       "1  1/3/2008  1447.160034  85.570000  78.370003  15.285  1.474491\n",
       "2  1/4/2008  1411.630005  85.129997  77.309998  15.167  1.475492\n",
       "3  1/7/2008  1416.180054  84.769997  75.500000  15.053  1.468299\n",
       "4  1/8/2008  1390.189941  86.779999  76.059998  15.590  1.557099"
      ]
     },
     "execution_count": 5,
     "metadata": {},
     "output_type": "execute_result"
    }
   ],
   "source": [
    "df = pd.read_csv(\"gld_price_data.csv\")\n",
    "df.head()"
   ]
  },
  {
   "cell_type": "code",
   "execution_count": 12,
   "id": "6ab971b8",
   "metadata": {},
   "outputs": [
    {
     "data": {
      "text/html": [
       "<div>\n",
       "<style scoped>\n",
       "    .dataframe tbody tr th:only-of-type {\n",
       "        vertical-align: middle;\n",
       "    }\n",
       "\n",
       "    .dataframe tbody tr th {\n",
       "        vertical-align: top;\n",
       "    }\n",
       "\n",
       "    .dataframe thead th {\n",
       "        text-align: right;\n",
       "    }\n",
       "</style>\n",
       "<table border=\"1\" class=\"dataframe\">\n",
       "  <thead>\n",
       "    <tr style=\"text-align: right;\">\n",
       "      <th></th>\n",
       "      <th>Date</th>\n",
       "      <th>SPX</th>\n",
       "      <th>GLD</th>\n",
       "      <th>USO</th>\n",
       "      <th>SLV</th>\n",
       "      <th>EUR/USD</th>\n",
       "    </tr>\n",
       "  </thead>\n",
       "  <tbody>\n",
       "    <tr>\n",
       "      <th>2285</th>\n",
       "      <td>5/8/2018</td>\n",
       "      <td>2671.919922</td>\n",
       "      <td>124.589996</td>\n",
       "      <td>14.0600</td>\n",
       "      <td>15.5100</td>\n",
       "      <td>1.186789</td>\n",
       "    </tr>\n",
       "    <tr>\n",
       "      <th>2286</th>\n",
       "      <td>5/9/2018</td>\n",
       "      <td>2697.790039</td>\n",
       "      <td>124.330002</td>\n",
       "      <td>14.3700</td>\n",
       "      <td>15.5300</td>\n",
       "      <td>1.184722</td>\n",
       "    </tr>\n",
       "    <tr>\n",
       "      <th>2287</th>\n",
       "      <td>5/10/2018</td>\n",
       "      <td>2723.070068</td>\n",
       "      <td>125.180000</td>\n",
       "      <td>14.4100</td>\n",
       "      <td>15.7400</td>\n",
       "      <td>1.191753</td>\n",
       "    </tr>\n",
       "    <tr>\n",
       "      <th>2288</th>\n",
       "      <td>5/14/2018</td>\n",
       "      <td>2730.129883</td>\n",
       "      <td>124.489998</td>\n",
       "      <td>14.3800</td>\n",
       "      <td>15.5600</td>\n",
       "      <td>1.193118</td>\n",
       "    </tr>\n",
       "    <tr>\n",
       "      <th>2289</th>\n",
       "      <td>5/16/2018</td>\n",
       "      <td>2725.780029</td>\n",
       "      <td>122.543800</td>\n",
       "      <td>14.4058</td>\n",
       "      <td>15.4542</td>\n",
       "      <td>1.182033</td>\n",
       "    </tr>\n",
       "  </tbody>\n",
       "</table>\n",
       "</div>"
      ],
      "text/plain": [
       "           Date          SPX         GLD      USO      SLV   EUR/USD\n",
       "2285   5/8/2018  2671.919922  124.589996  14.0600  15.5100  1.186789\n",
       "2286   5/9/2018  2697.790039  124.330002  14.3700  15.5300  1.184722\n",
       "2287  5/10/2018  2723.070068  125.180000  14.4100  15.7400  1.191753\n",
       "2288  5/14/2018  2730.129883  124.489998  14.3800  15.5600  1.193118\n",
       "2289  5/16/2018  2725.780029  122.543800  14.4058  15.4542  1.182033"
      ]
     },
     "execution_count": 12,
     "metadata": {},
     "output_type": "execute_result"
    }
   ],
   "source": [
    "df.tail()"
   ]
  },
  {
   "cell_type": "code",
   "execution_count": 14,
   "id": "039daef9",
   "metadata": {},
   "outputs": [
    {
     "data": {
      "text/plain": [
       "(2290, 6)"
      ]
     },
     "execution_count": 14,
     "metadata": {},
     "output_type": "execute_result"
    }
   ],
   "source": [
    "df.shape"
   ]
  },
  {
   "cell_type": "code",
   "execution_count": 7,
   "id": "f62f5971",
   "metadata": {},
   "outputs": [
    {
     "data": {
      "text/plain": [
       "Date       0\n",
       "SPX        0\n",
       "GLD        0\n",
       "USO        0\n",
       "SLV        0\n",
       "EUR/USD    0\n",
       "dtype: int64"
      ]
     },
     "execution_count": 7,
     "metadata": {},
     "output_type": "execute_result"
    }
   ],
   "source": [
    "df.isnull().sum()"
   ]
  },
  {
   "cell_type": "code",
   "execution_count": 8,
   "id": "1230047c",
   "metadata": {},
   "outputs": [
    {
     "data": {
      "text/html": [
       "<div>\n",
       "<style scoped>\n",
       "    .dataframe tbody tr th:only-of-type {\n",
       "        vertical-align: middle;\n",
       "    }\n",
       "\n",
       "    .dataframe tbody tr th {\n",
       "        vertical-align: top;\n",
       "    }\n",
       "\n",
       "    .dataframe thead th {\n",
       "        text-align: right;\n",
       "    }\n",
       "</style>\n",
       "<table border=\"1\" class=\"dataframe\">\n",
       "  <thead>\n",
       "    <tr style=\"text-align: right;\">\n",
       "      <th></th>\n",
       "      <th>SPX</th>\n",
       "      <th>GLD</th>\n",
       "      <th>USO</th>\n",
       "      <th>SLV</th>\n",
       "      <th>EUR/USD</th>\n",
       "    </tr>\n",
       "  </thead>\n",
       "  <tbody>\n",
       "    <tr>\n",
       "      <th>count</th>\n",
       "      <td>2290.000000</td>\n",
       "      <td>2290.000000</td>\n",
       "      <td>2290.000000</td>\n",
       "      <td>2290.000000</td>\n",
       "      <td>2290.000000</td>\n",
       "    </tr>\n",
       "    <tr>\n",
       "      <th>mean</th>\n",
       "      <td>1654.315776</td>\n",
       "      <td>122.732875</td>\n",
       "      <td>31.842221</td>\n",
       "      <td>20.084997</td>\n",
       "      <td>1.283653</td>\n",
       "    </tr>\n",
       "    <tr>\n",
       "      <th>std</th>\n",
       "      <td>519.111540</td>\n",
       "      <td>23.283346</td>\n",
       "      <td>19.523517</td>\n",
       "      <td>7.092566</td>\n",
       "      <td>0.131547</td>\n",
       "    </tr>\n",
       "    <tr>\n",
       "      <th>min</th>\n",
       "      <td>676.530029</td>\n",
       "      <td>70.000000</td>\n",
       "      <td>7.960000</td>\n",
       "      <td>8.850000</td>\n",
       "      <td>1.039047</td>\n",
       "    </tr>\n",
       "    <tr>\n",
       "      <th>25%</th>\n",
       "      <td>1239.874969</td>\n",
       "      <td>109.725000</td>\n",
       "      <td>14.380000</td>\n",
       "      <td>15.570000</td>\n",
       "      <td>1.171313</td>\n",
       "    </tr>\n",
       "    <tr>\n",
       "      <th>50%</th>\n",
       "      <td>1551.434998</td>\n",
       "      <td>120.580002</td>\n",
       "      <td>33.869999</td>\n",
       "      <td>17.268500</td>\n",
       "      <td>1.303297</td>\n",
       "    </tr>\n",
       "    <tr>\n",
       "      <th>75%</th>\n",
       "      <td>2073.010070</td>\n",
       "      <td>132.840004</td>\n",
       "      <td>37.827501</td>\n",
       "      <td>22.882500</td>\n",
       "      <td>1.369971</td>\n",
       "    </tr>\n",
       "    <tr>\n",
       "      <th>max</th>\n",
       "      <td>2872.870117</td>\n",
       "      <td>184.589996</td>\n",
       "      <td>117.480003</td>\n",
       "      <td>47.259998</td>\n",
       "      <td>1.598798</td>\n",
       "    </tr>\n",
       "  </tbody>\n",
       "</table>\n",
       "</div>"
      ],
      "text/plain": [
       "               SPX          GLD          USO          SLV      EUR/USD\n",
       "count  2290.000000  2290.000000  2290.000000  2290.000000  2290.000000\n",
       "mean   1654.315776   122.732875    31.842221    20.084997     1.283653\n",
       "std     519.111540    23.283346    19.523517     7.092566     0.131547\n",
       "min     676.530029    70.000000     7.960000     8.850000     1.039047\n",
       "25%    1239.874969   109.725000    14.380000    15.570000     1.171313\n",
       "50%    1551.434998   120.580002    33.869999    17.268500     1.303297\n",
       "75%    2073.010070   132.840004    37.827501    22.882500     1.369971\n",
       "max    2872.870117   184.589996   117.480003    47.259998     1.598798"
      ]
     },
     "execution_count": 8,
     "metadata": {},
     "output_type": "execute_result"
    }
   ],
   "source": [
    "df.describe()"
   ]
  },
  {
   "cell_type": "code",
   "execution_count": 11,
   "id": "0294e81d",
   "metadata": {},
   "outputs": [
    {
     "data": {
      "text/plain": [
       "Date        object\n",
       "SPX        float64\n",
       "GLD        float64\n",
       "USO        float64\n",
       "SLV        float64\n",
       "EUR/USD    float64\n",
       "dtype: object"
      ]
     },
     "execution_count": 11,
     "metadata": {},
     "output_type": "execute_result"
    }
   ],
   "source": [
    "df.dtypes"
   ]
  },
  {
   "cell_type": "code",
   "execution_count": 15,
   "id": "875cd41c",
   "metadata": {},
   "outputs": [
    {
     "name": "stdout",
     "output_type": "stream",
     "text": [
      "<class 'pandas.core.frame.DataFrame'>\n",
      "RangeIndex: 2290 entries, 0 to 2289\n",
      "Data columns (total 6 columns):\n",
      " #   Column   Non-Null Count  Dtype  \n",
      "---  ------   --------------  -----  \n",
      " 0   Date     2290 non-null   object \n",
      " 1   SPX      2290 non-null   float64\n",
      " 2   GLD      2290 non-null   float64\n",
      " 3   USO      2290 non-null   float64\n",
      " 4   SLV      2290 non-null   float64\n",
      " 5   EUR/USD  2290 non-null   float64\n",
      "dtypes: float64(5), object(1)\n",
      "memory usage: 107.5+ KB\n"
     ]
    }
   ],
   "source": [
    "#we can use the .info() to get the the dtypes and if there are nullable or not\n",
    "df.info()"
   ]
  },
  {
   "cell_type": "code",
   "execution_count": 16,
   "id": "8ab31cb5",
   "metadata": {},
   "outputs": [],
   "source": [
    "#let's see if their is a positive or negative correlation beween the columns of the dataset \n",
    "#we can say that a positive correlation => is directly proportional\n",
    "#we can say that a negative correlation => is indirectly proportional\n",
    "#to see this correlation we construct a heatmap "
   ]
  },
  {
   "cell_type": "code",
   "execution_count": 22,
   "id": "c45b252a",
   "metadata": {},
   "outputs": [],
   "source": [
    "corrl = df.corr()"
   ]
  },
  {
   "cell_type": "code",
   "execution_count": 27,
   "id": "769b296f",
   "metadata": {},
   "outputs": [
    {
     "data": {
      "text/plain": [
       "<AxesSubplot:>"
      ]
     },
     "execution_count": 27,
     "metadata": {},
     "output_type": "execute_result"
    },
    {
     "data": {
      "image/png": "[encoded data removed]",
      "text/plain": [
       "<Figure size 576x576 with 2 Axes>"
      ]
     },
     "metadata": {
      "needs_background": "light"
     },
     "output_type": "display_data"
    }
   ],
   "source": [
    "plt.figure(figsize=(8,8))\n",
    "sns.heatmap(corrl, cbar =True, square =True, fmt='.1f', annot=True, annot_kws ={'size' : 8}, cmap=\"icefire_r\")"
   ]
  },
  {
   "cell_type": "code",
   "execution_count": 28,
   "id": "541fc572",
   "metadata": {},
   "outputs": [],
   "source": [
    "#we can conclude from this heatmap above thte GLD column is positevely corelated to the SLV column with +0.9\n",
    "# also USO with EUR/USD at +0.8 , \n",
    "# spx and eur/usd has a negative correlation with -0.7\n",
    "# and uso and spx have also a negative correlation at -0.6 "
   ]
  },
  {
   "cell_type": "code",
   "execution_count": 29,
   "id": "3ee2438b",
   "metadata": {},
   "outputs": [
    {
     "name": "stdout",
     "output_type": "stream",
     "text": [
      "SPX        0.049345\n",
      "GLD        1.000000\n",
      "USO       -0.186360\n",
      "SLV        0.866632\n",
      "EUR/USD   -0.024375\n",
      "Name: GLD, dtype: float64\n"
     ]
    }
   ],
   "source": [
    "print(corrl['GLD'])"
   ]
  },
  {
   "cell_type": "code",
   "execution_count": 41,
   "id": "13ccb3f7",
   "metadata": {},
   "outputs": [
    {
     "name": "stderr",
     "output_type": "stream",
     "text": [
      "C:\\Users\\JJK\\anaconda3\\lib\\site-packages\\seaborn\\distributions.py:2557: FutureWarning: `distplot` is a deprecated function and will be removed in a future version. Please adapt your code to use either `displot` (a figure-level function with similar flexibility) or `histplot` (an axes-level function for histograms).\n",
      "  warnings.warn(msg, FutureWarning)\n"
     ]
    },
    {
     "data": {
      "text/plain": [
       "<AxesSubplot:xlabel='GLD', ylabel='Density'>"
      ]
     },
     "execution_count": 41,
     "metadata": {},
     "output_type": "execute_result"
    },
    {
     "data": {
      "image/png": "[encoded data removed]",
      "text/plain": [
       "<Figure size 432x288 with 1 Axes>"
      ]
     },
     "metadata": {
      "needs_background": "light"
     },
     "output_type": "display_data"
    }
   ],
   "source": [
    "#let's see the distribution of the GLD \n",
    "sns.distplot(df['GLD'], color = 'yellow')"
   ]
  },
  {
   "cell_type": "code",
   "execution_count": 44,
   "id": "6b24b8f5",
   "metadata": {},
   "outputs": [],
   "source": [
    "#splitting the data\n",
    "X = df.drop(['Date', 'GLD'], axis =1)\n",
    "Y = df['GLD']\n"
   ]
  },
  {
   "cell_type": "code",
   "execution_count": 45,
   "id": "34ebb439",
   "metadata": {},
   "outputs": [
    {
     "name": "stdout",
     "output_type": "stream",
     "text": [
      "              SPX        USO      SLV   EUR/USD\n",
      "0     1447.160034  78.470001  15.1800  1.471692\n",
      "1     1447.160034  78.370003  15.2850  1.474491\n",
      "2     1411.630005  77.309998  15.1670  1.475492\n",
      "3     1416.180054  75.500000  15.0530  1.468299\n",
      "4     1390.189941  76.059998  15.5900  1.557099\n",
      "...           ...        ...      ...       ...\n",
      "2285  2671.919922  14.060000  15.5100  1.186789\n",
      "2286  2697.790039  14.370000  15.5300  1.184722\n",
      "2287  2723.070068  14.410000  15.7400  1.191753\n",
      "2288  2730.129883  14.380000  15.5600  1.193118\n",
      "2289  2725.780029  14.405800  15.4542  1.182033\n",
      "\n",
      "[2290 rows x 4 columns]\n"
     ]
    }
   ],
   "source": [
    "print(X)"
   ]
  },
  {
   "cell_type": "code",
   "execution_count": 46,
   "id": "ac966f82",
   "metadata": {},
   "outputs": [
    {
     "name": "stdout",
     "output_type": "stream",
     "text": [
      "0        84.860001\n",
      "1        85.570000\n",
      "2        85.129997\n",
      "3        84.769997\n",
      "4        86.779999\n",
      "           ...    \n",
      "2285    124.589996\n",
      "2286    124.330002\n",
      "2287    125.180000\n",
      "2288    124.489998\n",
      "2289    122.543800\n",
      "Name: GLD, Length: 2290, dtype: float64\n"
     ]
    }
   ],
   "source": [
    "print(Y)"
   ]
  },
  {
   "cell_type": "code",
   "execution_count": 54,
   "id": "9864c5b0",
   "metadata": {},
   "outputs": [],
   "source": [
    "#Split and Test \n",
    "x_train, x_test, y_train, y_test = train_test_split(X,Y,test_size =0.2, random_state =2)"
   ]
  },
  {
   "cell_type": "code",
   "execution_count": 55,
   "id": "f8f3100f",
   "metadata": {},
   "outputs": [],
   "source": [
    "reg = RandomForestRegressor(n_estimators =100)"
   ]
  },
  {
   "cell_type": "code",
   "execution_count": 56,
   "id": "0182fcc6",
   "metadata": {},
   "outputs": [
    {
     "data": {
      "text/plain": [
       "RandomForestRegressor()"
      ]
     },
     "execution_count": 56,
     "metadata": {},
     "output_type": "execute_result"
    }
   ],
   "source": [
    "reg.fit(x_train,y_train)"
   ]
  },
  {
   "cell_type": "code",
   "execution_count": 57,
   "id": "b876d5eb",
   "metadata": {},
   "outputs": [],
   "source": [
    "test_pred = reg.predict(x_test)"
   ]
  },
  {
   "cell_type": "code",
   "execution_count": 58,
   "id": "6664d399",
   "metadata": {},
   "outputs": [
    {
     "name": "stdout",
     "output_type": "stream",
     "text": [
      "[168.74719958  81.75819988 116.4815001  127.61000081 120.69260142\n",
      " 154.71039859 150.29839795 125.99590031 117.48949873 126.10570039\n",
      " 116.47900106 171.87250076 141.649099   167.95529825 115.16160012\n",
      " 117.83050048 138.04650332 170.43970129 159.56420383 160.59889942\n",
      " 155.15719978 125.3480002  176.22949933 157.43720354 125.15100059\n",
      "  93.80629952  77.22440029 120.30109986 119.16069936 167.52510023\n",
      "  88.06149961 125.12469964  91.05550074 117.73460032 121.21109929\n",
      " 136.70660178 115.60040108 115.21450097 147.27459973 107.26980117\n",
      " 104.40250265  87.24479772 126.51980073 118.08340005 154.05139908\n",
      " 119.64570003 108.30989989 108.03379822  93.30820069 126.9388981\n",
      "  74.76440051 113.73669933 121.26590025 111.29399912 118.93039894\n",
      " 120.7089995  159.34829979 167.68610151 146.897397    85.88559875\n",
      "  94.31020039  86.76289893  90.84400036 119.14300081 126.37770089\n",
      " 127.57709973 169.87299913 122.18889912 117.33959876  98.46790056\n",
      " 168.22250156 142.8307984  132.30270246 121.14510256 121.63469943\n",
      " 119.81900075 114.42390175 118.17070085 107.25280085 127.93370103\n",
      " 114.01899959 107.7825     117.01310083 119.75999903  89.00740017\n",
      "  88.24829877 146.63980161 127.40580078 113.51649968 110.15379824\n",
      " 108.12719907  77.59809897 169.83650219 114.13109931 121.5827992\n",
      " 128.08270191 154.93069858  91.60659925 136.20100091 158.91130308\n",
      " 125.18680049 125.3077006  130.7707021  114.92080079 119.80979998\n",
      "  92.0625     110.38889873 168.3735992  156.02979922 114.33319975\n",
      " 106.86650147  78.88419985 113.36990061 125.82920093 106.92599961\n",
      " 119.44900103 155.78470281 159.82309878 120.34449983 133.58410225\n",
      " 101.4363999  117.73449815 119.10660011 113.00970057 102.81889919\n",
      " 160.35419728  99.03210032 147.72999881 125.38260122 169.7070989\n",
      " 125.29269958 127.3260977  127.33240153 113.60799956 112.4331008\n",
      " 123.52979881 102.16359901  89.1247999  124.65879963 101.95569978\n",
      " 107.07469934 113.40370076 117.48940041  99.31049962 121.66350063\n",
      " 163.39419945  87.4808984  106.59010014 117.29720088 127.80090123\n",
      " 124.14760057  80.77789915 120.4835006  158.25769762  88.09649945\n",
      " 110.31039936 118.92769928 172.72499884 103.03969901 105.56480051\n",
      " 122.40010034 158.70539668  87.75519838  92.9101001  112.80469998\n",
      " 176.90189919 114.94079979 119.15840004  94.88150105 125.61630063\n",
      " 165.77880092 114.75940067 117.01390129  88.29559871 148.63010067\n",
      " 120.28769965  89.5344998  112.49950014 117.38680077 118.75290128\n",
      "  88.16389911  94.17230025 117.11789973 118.41860209 120.43630058\n",
      " 126.76909846 121.90479996 152.06349958 164.61840053 118.53919988\n",
      " 120.42450118 151.36930029 118.71959928 173.28459887 106.36629943\n",
      " 104.99400154 148.92280072 113.70880074 124.7545012  147.880499\n",
      " 119.55140122 115.31730071 112.51509998 113.66080181 142.36980141\n",
      " 117.98429749 102.90460034 115.96030121 103.93980185  98.88580045\n",
      " 117.09870088  90.43550025  91.63050053 153.34519888 102.7255995\n",
      " 154.96910061 114.39440156 138.3892006   90.08519841 115.46099959\n",
      " 113.9598996  122.92640038 121.85280016 165.11380092  92.93189915\n",
      " 135.51730142 121.35509877 120.7798006  104.64830011 142.87660255\n",
      " 121.54409917 116.65840045 113.65560096 127.14299744 122.46929952\n",
      " 125.86439955 121.20640012  86.88159883 132.27900125 144.71730191\n",
      "  92.62410001 157.78209895 158.78520242 126.51209867 165.02149915\n",
      " 108.89789954 109.89950068 103.52629835  94.19910082 127.86290254\n",
      " 107.31080046 161.12139995 121.61720066 131.97629973 130.76260182\n",
      " 160.66329955  90.11079866 175.66190162 127.79530037 126.68129895\n",
      "  86.55619913 124.62479964 150.28429741  89.60460011 106.80770014\n",
      " 109.06709983  84.95439922 136.27700004 154.82910232 138.87600375\n",
      "  73.89170046 152.89060139 126.37699948 126.77559988 127.43799895\n",
      " 108.61719927 156.04690012 114.56940083 116.83690133 125.19439931\n",
      " 153.99180138 121.3456002  156.29679921  92.9421009  125.47250151\n",
      " 125.52130012  87.92070078  92.26419954 126.25799917 128.29880389\n",
      " 113.21780083 117.87389769 120.93769986 127.16299807 119.649101\n",
      " 136.20410096  94.0560995  119.75350033 113.34840105  94.38129948\n",
      " 108.85279992  87.28479905 109.07519953  89.55679982  92.3978\n",
      " 131.6579027  162.44640005  89.36389952 119.66600062 133.16880162\n",
      " 123.89520006 128.26540192 101.92109824  88.88529878 131.67880095\n",
      " 120.1079005  108.56809987 167.34620089 115.26980035  86.5980986\n",
      " 118.8992005   90.97239985 162.05020027 116.45450033 121.40570053\n",
      " 160.31089753 120.11789944 112.67989939 108.44769862 126.8581999\n",
      "  76.40050019 103.03249975 127.82820245 121.69079986  92.58820008\n",
      " 131.8149008  118.0723012  116.13419961 154.62030253 159.93210113\n",
      " 109.97379923 154.73559838 119.40070081 160.7546007  118.54260063\n",
      " 157.70679987 115.04599924 116.38830023 148.40299853 114.89040076\n",
      " 125.53179904 165.46740006 117.80380041 125.12299953 153.20590334\n",
      " 153.61440244 131.95510049 114.81670025 121.09720227 124.83580083\n",
      "  89.66340059 123.22959983 155.16330274 111.87430037 106.41320012\n",
      " 160.90790151 118.50949957 165.62649991 134.055201   115.21719968\n",
      " 152.91399868 168.62099945 115.50470021 114.07880109 159.52299859\n",
      "  85.29109882 127.00220044 128.13140025 128.91070006 124.21600071\n",
      " 123.89460062  90.63140056 153.25159984  97.07389973 136.39230014\n",
      "  89.19319961 107.79370002 115.05880045 112.35560102 124.29119928\n",
      "  91.38129869 125.54480142 162.06539931 120.22049878 165.21470088\n",
      " 126.78039825 112.36410005 127.51459976  95.21319891  91.15069987\n",
      " 103.51229902 120.94279994  83.01669953 126.29149986 160.30110483\n",
      " 117.12570105 118.22509964 119.66789983 122.47909944 120.13340131\n",
      " 121.35300051 118.2587008  107.07290009 148.3464004  125.86319904\n",
      " 115.61600039  74.17320014 127.836501   154.43070081 121.89450014\n",
      " 125.61810055  88.92280014 103.65109849 124.01880045 120.26710051\n",
      "  73.50610088 151.63830015 121.13070036 104.8353004   86.06819766\n",
      " 115.15319897 172.29199803 119.93120029 160.23829761 113.2173001\n",
      " 121.43799997 118.57390117  95.98449989 118.48650044 125.5701005\n",
      " 118.52299976  96.1451003  154.09860147 122.18960063 147.69890075\n",
      " 159.06740252 113.85650052 122.50729938 149.5743981  126.97380038\n",
      " 165.56200076 135.80140001 120.16289945 167.36979821 108.29499901\n",
      " 121.82379879 140.20970189 106.59889891]\n"
     ]
    }
   ],
   "source": [
    "print(test_pred)"
   ]
  },
  {
   "cell_type": "code",
   "execution_count": 60,
   "id": "f060e12e",
   "metadata": {},
   "outputs": [
    {
     "name": "stdout",
     "output_type": "stream",
     "text": [
      "R squared error 0.9892525898247433\n"
     ]
    }
   ],
   "source": [
    "#model Evaluation\n",
    "\n",
    "#R squared error \n",
    "s1 = metrics.r2_score(y_test, test_pred)\n",
    "print(\"R squared error\",s1)"
   ]
  },
  {
   "cell_type": "code",
   "execution_count": 61,
   "id": "9e503d77",
   "metadata": {},
   "outputs": [],
   "source": [
    "#let us compare the actual values vs the predicted values "
   ]
  },
  {
   "cell_type": "code",
   "execution_count": 62,
   "id": "512b088f",
   "metadata": {},
   "outputs": [],
   "source": [
    "y_test = list(y_test)"
   ]
  },
  {
   "cell_type": "code",
   "execution_count": 64,
   "id": "16ce1216",
   "metadata": {},
   "outputs": [
    {
     "data": {
      "image/png": "[encoded data removed]",
      "text/plain": [
       "<Figure size 432x288 with 1 Axes>"
      ]
     },
     "metadata": {
      "needs_background": "light"
     },
     "output_type": "display_data"
    }
   ],
   "source": [
    "plt.plot(y_test, color = 'blue', label ='Actual values')\n",
    "plt.plot(test_pred, color = 'yellow', label ='predicted values')\n",
    "plt.title('Actual values vs Predicted values')\n",
    "plt.xlabel('Numbers of Actual Values')\n",
    "plt.ylabel('Gold prices')\n",
    "plt.legend()\n",
    "plt.show()"
   ]
  },
  {
   "cell_type": "code",
   "execution_count": 65,
   "id": "4fd28a7e",
   "metadata": {},
   "outputs": [],
   "source": [
    "\n",
    "from sklearn.linear_model import LinearRegression"
   ]
  },
  {
   "cell_type": "code",
   "execution_count": 66,
   "id": "2ca59a24",
   "metadata": {},
   "outputs": [],
   "source": [
    "model = LinearRegression()"
   ]
  },
  {
   "cell_type": "code",
   "execution_count": 67,
   "id": "517cb645",
   "metadata": {},
   "outputs": [
    {
     "data": {
      "text/plain": [
       "LinearRegression()"
      ]
     },
     "execution_count": 67,
     "metadata": {},
     "output_type": "execute_result"
    }
   ],
   "source": [
    "model.fit(x_train,y_train)"
   ]
  },
  {
   "cell_type": "code",
   "execution_count": 69,
   "id": "2c260aaa",
   "metadata": {},
   "outputs": [],
   "source": [
    "y_pred = model.predict(x_test)"
   ]
  },
  {
   "cell_type": "code",
   "execution_count": 70,
   "id": "bb47a836",
   "metadata": {},
   "outputs": [
    {
     "name": "stdout",
     "output_type": "stream",
     "text": [
      "R squared error 0.8657886565869237\n"
     ]
    }
   ],
   "source": [
    "#R squared error \n",
    "sl = metrics.r2_score(y_test, y_pred)\n",
    "print(\"R squared error\",sl)"
   ]
  },
  {
   "cell_type": "code",
   "execution_count": 71,
   "id": "a0029443",
   "metadata": {},
   "outputs": [
    {
     "name": "stdout",
     "output_type": "stream",
     "text": [
      "Linear Regression:  4.673785467677883 %\n",
      "Random Forrest Regressor:  1.0651195123697608 %\n"
     ]
    }
   ],
   "source": [
    "def MAPE(Y_actual,Y_Predicted):\n",
    "    mape = np.mean(np.abs((Y_actual - Y_Predicted)/Y_actual))*100\n",
    "    return mape\n",
    "\n",
    "lr = MAPE(y_test,y_pred)\n",
    "rfr=  MAPE(y_test,test_pred)\n",
    "print(\"Linear Regression: \", lr, \"%\")\n",
    "print(\"Random Forrest Regressor: \", rfr, \"%\")"
   ]
  },
  {
   "cell_type": "code",
   "execution_count": 72,
   "id": "e5187956",
   "metadata": {},
   "outputs": [],
   "source": [
    "# After testing out the Mean Absolute Percantage error of both models Linear Regression , Random Forest Regression\n",
    "# we got really good results for testing errors in both models especially in Random Forrest Regressor \n",
    "#where we got really good results"
   ]
  },
  {
   "cell_type": "code",
   "execution_count": 73,
   "id": "20d6a0d4",
   "metadata": {},
   "outputs": [],
   "source": [
    "from xgboost import XGBRegressor"
   ]
  },
  {
   "cell_type": "code",
   "execution_count": 74,
   "id": "774d5a79",
   "metadata": {},
   "outputs": [],
   "source": [
    "m = XGBRegressor()"
   ]
  },
  {
   "cell_type": "code",
   "execution_count": 75,
   "id": "21ca9f4a",
   "metadata": {},
   "outputs": [
    {
     "data": {
      "text/plain": [
       "XGBRegressor(base_score=None, booster=None, callbacks=None,\n",
       "             colsample_bylevel=None, colsample_bynode=None,\n",
       "             colsample_bytree=None, device=None, early_stopping_rounds=None,\n",
       "             enable_categorical=False, eval_metric=None, feature_types=None,\n",
       "             gamma=None, grow_policy=None, importance_type=None,\n",
       "             interaction_constraints=None, learning_rate=None, max_bin=None,\n",
       "             max_cat_threshold=None, max_cat_to_onehot=None,\n",
       "             max_delta_step=None, max_depth=None, max_leaves=None,\n",
       "             min_child_weight=None, missing=nan, monotone_constraints=None,\n",
       "             multi_strategy=None, n_estimators=None, n_jobs=None,\n",
       "             num_parallel_tree=None, random_state=None, ...)"
      ]
     },
     "execution_count": 75,
     "metadata": {},
     "output_type": "execute_result"
    }
   ],
   "source": [
    "m.fit(x_train,y_train)"
   ]
  },
  {
   "cell_type": "code",
   "execution_count": 76,
   "id": "828484ca",
   "metadata": {},
   "outputs": [],
   "source": [
    "pred = m.predict(x_test)"
   ]
  },
  {
   "cell_type": "code",
   "execution_count": 77,
   "id": "26533c3f",
   "metadata": {},
   "outputs": [
    {
     "name": "stdout",
     "output_type": "stream",
     "text": [
      "R squared error:  0.9873849231050468\n"
     ]
    }
   ],
   "source": [
    "sx = metrics.r2_score(y_test,pred)\n",
    "print(\"R squared error: \",sx)"
   ]
  },
  {
   "cell_type": "code",
   "execution_count": 79,
   "id": "dcb4c62e",
   "metadata": {},
   "outputs": [
    {
     "name": "stdout",
     "output_type": "stream",
     "text": [
      "Mean Absolute Percantage Error:  1.1878165443556759 %\n"
     ]
    }
   ],
   "source": [
    "fx = MAPE(y_test,pred)\n",
    "print(\"Mean Absolute Percantage Error: \", fx, \"%\")"
   ]
  },
  {
   "cell_type": "code",
   "execution_count": 80,
   "id": "73d249fb",
   "metadata": {},
   "outputs": [],
   "source": [
    "# after trying a boosting ensemble technique the MAPE is 1.187% these are great results\n",
    "# but the bagging ensemble technique which is a random forest regressor algortithm performed better with a MAPE 1.065%"
   ]
  },
  {
   "cell_type": "code",
   "execution_count": 81,
   "id": "9e01edcc",
   "metadata": {},
   "outputs": [],
   "source": []
  },
  {
   "cell_type": "code",
   "execution_count": 85,
   "id": "370ea5fc",
   "metadata": {},
   "outputs": [],
   "source": []
  },
  {
   "cell_type": "code",
   "execution_count": null,
   "id": "92715ca0",
   "metadata": {},
   "outputs": [],
   "source": []
  }
 ],
 "metadata": {
  "kernelspec": {
   "display_name": "Python 3",
   "language": "python",
   "name": "python3"
  },
  "language_info": {
   "codemirror_mode": {
    "name": "ipython",
    "version": 3
   },
   "file_extension": ".py",
   "mimetype": "text/x-python",
   "name": "python",
   "nbconvert_exporter": "python",
   "pygments_lexer": "ipython3",
   "version": "3.8.8"
  }
 },
 "nbformat": 4,
 "nbformat_minor": 5
}
